{
  "nbformat": 4,
  "nbformat_minor": 0,
  "metadata": {
    "colab": {
      "provenance": []
    },
    "kernelspec": {
      "name": "python3",
      "display_name": "Python 3"
    },
    "language_info": {
      "name": "python"
    }
  },
  "cells": [
    {
      "cell_type": "code",
      "execution_count": null,
      "metadata": {
        "id": "hUoMREVERq5K"
      },
      "outputs": [],
      "source": []
    },
    {
      "cell_type": "markdown",
      "source": [
        "Question 15 - Given a sample mean of 25, population mean of 22, population standard deviation\n",
        "of 3, and sample size of 40, compute the Z-test statistic and interpret the results."
      ],
      "metadata": {
        "id": "iVKCRTcaRzwJ"
      }
    },
    {
      "cell_type": "code",
      "source": [
        "sample_mean = 25\n",
        "population_mean = 22\n",
        "population_sd = 3\n",
        "sample_size = 40\n",
        "import math\n",
        "z_test_value = (sample_mean-population_mean)/(population_sd/math.sqrt(sample_size))\n",
        "print(\"z_test_value=\", z_test_value)"
      ],
      "metadata": {
        "colab": {
          "base_uri": "https://localhost:8080/"
        },
        "id": "VmxwnzwtSAah",
        "outputId": "8d8e44db-ae47-4dcb-b3f0-4d3cc0077ac9"
      },
      "execution_count": null,
      "outputs": [
        {
          "output_type": "stream",
          "name": "stdout",
          "text": [
            "z_test_value= 6.324555320336759\n"
          ]
        }
      ]
    },
    {
      "cell_type": "markdown",
      "source": [
        "Question 16 - P value < 0.00001\n",
        "So result is significant at p < 0.05, we failed to reject null hypothesis."
      ],
      "metadata": {
        "id": "YxxQ3F3TZAcV"
      }
    },
    {
      "cell_type": "code",
      "source": [],
      "metadata": {
        "id": "7DNcxo-IZSTW"
      },
      "execution_count": null,
      "outputs": []
    },
    {
      "cell_type": "code",
      "source": [],
      "metadata": {
        "id": "xY-O-BAST2uP"
      },
      "execution_count": null,
      "outputs": []
    }
  ]
}